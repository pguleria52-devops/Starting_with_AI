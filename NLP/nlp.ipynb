{
 "cells": [
  {
   "cell_type": "code",
   "execution_count": 9,
   "id": "00bd347d",
   "metadata": {},
   "outputs": [
    {
     "name": "stderr",
     "output_type": "stream",
     "text": [
      "[nltk_data] Downloading package punkt_tab to C:\\Users\\Partikshit\n",
      "[nltk_data]     Guleria\\AppData\\Roaming\\nltk_data...\n",
      "[nltk_data]   Unzipping tokenizers\\punkt_tab.zip.\n",
      "[nltk_data]   Unzipping tokenizers\\punkt_tab.zip.\n",
      "[nltk_data] Downloading package punkt to C:\\Users\\Partikshit\n",
      "[nltk_data]     Guleria\\AppData\\Roaming\\nltk_data...\n",
      "[nltk_data]   Package punkt is already up-to-date!\n",
      "[nltk_data] Downloading package punkt to C:\\Users\\Partikshit\n",
      "[nltk_data]     Guleria\\AppData\\Roaming\\nltk_data...\n",
      "[nltk_data]   Package punkt is already up-to-date!\n"
     ]
    },
    {
     "data": {
      "text/plain": [
       "True"
      ]
     },
     "execution_count": 9,
     "metadata": {},
     "output_type": "execute_result"
    }
   ],
   "source": [
    "import nltk\n",
    "nltk.download('punkt_tab')\n",
    "nltk.download('punkt')"
   ]
  },
  {
   "cell_type": "code",
   "execution_count": 12,
   "id": "9b2d65c1",
   "metadata": {},
   "outputs": [],
   "source": [
    "corpus = '''Hello Welcome to my Ai study course. \n",
    "Study Hard! DevOps backend and AI/ML engineer.\n",
    "'''"
   ]
  },
  {
   "cell_type": "code",
   "execution_count": 13,
   "id": "50ee3d0c",
   "metadata": {},
   "outputs": [
    {
     "name": "stdout",
     "output_type": "stream",
     "text": [
      "Hello Welcome to my Ai study course. \n",
      "Study Hard! DevOps backend and AI/ML engineer.\n",
      "\n"
     ]
    }
   ],
   "source": [
    "print(corpus)"
   ]
  },
  {
   "cell_type": "code",
   "execution_count": 10,
   "id": "ca94cd44",
   "metadata": {},
   "outputs": [
    {
     "name": "stderr",
     "output_type": "stream",
     "text": [
      "[nltk_data] Downloading package punkt to C:\\Users\\Partikshit\n",
      "[nltk_data]     Guleria\\AppData\\Roaming\\nltk_data...\n",
      "[nltk_data]   Package punkt is already up-to-date!\n"
     ]
    }
   ],
   "source": [
    "#Tokenization\n",
    "## Sentence to paragraph\n",
    "\n",
    "import nltk\n",
    "nltk.download('punkt')\n",
    "from nltk.tokenize import sent_tokenize"
   ]
  },
  {
   "cell_type": "code",
   "execution_count": 15,
   "id": "117a2361",
   "metadata": {},
   "outputs": [],
   "source": [
    "documents = sent_tokenize(corpus)"
   ]
  },
  {
   "cell_type": "code",
   "execution_count": null,
   "id": "c59aa008",
   "metadata": {},
   "outputs": [
    {
     "data": {
      "text/plain": [
       "['Hello Welcome to my Ai study course.',\n",
       " 'Study Hard!',\n",
       " 'DevOps backend and AI/ML engineer.']"
      ]
     },
     "execution_count": 20,
     "metadata": {},
     "output_type": "execute_result"
    }
   ],
   "source": [
    "documents\n",
    "type(documents)"
   ]
  },
  {
   "cell_type": "code",
   "execution_count": 19,
   "id": "3db3dae0",
   "metadata": {},
   "outputs": [
    {
     "name": "stdout",
     "output_type": "stream",
     "text": [
      "Hello Welcome to my Ai study course.\n",
      "Study Hard!\n",
      "DevOps backend and AI/ML engineer.\n"
     ]
    }
   ],
   "source": [
    "for sentence in documents:\n",
    "    print(sentence)"
   ]
  },
  {
   "cell_type": "code",
   "execution_count": 21,
   "id": "a970a52d",
   "metadata": {},
   "outputs": [],
   "source": [
    "##Tokenization\n",
    "##Paragraph -> words\n",
    "## Sentence -> words\n",
    "\n",
    "from nltk import word_tokenize"
   ]
  },
  {
   "cell_type": "code",
   "execution_count": 22,
   "id": "fcc43bdd",
   "metadata": {},
   "outputs": [
    {
     "data": {
      "text/plain": [
       "['Hello',\n",
       " 'Welcome',\n",
       " 'to',\n",
       " 'my',\n",
       " 'Ai',\n",
       " 'study',\n",
       " 'course',\n",
       " '.',\n",
       " 'Study',\n",
       " 'Hard',\n",
       " '!',\n",
       " 'DevOps',\n",
       " 'backend',\n",
       " 'and',\n",
       " 'AI/ML',\n",
       " 'engineer',\n",
       " '.']"
      ]
     },
     "execution_count": 22,
     "metadata": {},
     "output_type": "execute_result"
    }
   ],
   "source": [
    "word_tokenize(corpus)"
   ]
  },
  {
   "cell_type": "code",
   "execution_count": 23,
   "id": "d1b9cec9",
   "metadata": {},
   "outputs": [
    {
     "name": "stdout",
     "output_type": "stream",
     "text": [
      "['Hello', 'Welcome', 'to', 'my', 'Ai', 'study', 'course', '.']\n",
      "['Study', 'Hard', '!']\n",
      "['DevOps', 'backend', 'and', 'AI/ML', 'engineer', '.']\n"
     ]
    }
   ],
   "source": [
    "for word in documents:\n",
    "    print(word_tokenize(word))"
   ]
  },
  {
   "cell_type": "code",
   "execution_count": 24,
   "id": "767d98c4",
   "metadata": {},
   "outputs": [],
   "source": [
    "data = '''Checking whether I can dio this or not.\n",
    "Let's see how it goes and final check'''"
   ]
  },
  {
   "cell_type": "code",
   "execution_count": 34,
   "id": "25b7d68d",
   "metadata": {},
   "outputs": [
    {
     "data": {
      "text/plain": [
       "['Checking whether I can dio this or not.',\n",
       " \"Let's see how it goes and final check\"]"
      ]
     },
     "execution_count": 34,
     "metadata": {},
     "output_type": "execute_result"
    }
   ],
   "source": [
    "sent_tokenize(data)\n"
   ]
  },
  {
   "cell_type": "code",
   "execution_count": 32,
   "id": "9f8382b8",
   "metadata": {},
   "outputs": [
    {
     "data": {
      "text/plain": [
       "['Checking',\n",
       " 'whether',\n",
       " 'I',\n",
       " 'can',\n",
       " 'dio',\n",
       " 'this',\n",
       " 'or',\n",
       " 'not',\n",
       " '.',\n",
       " 'Let',\n",
       " \"'s\",\n",
       " 'see',\n",
       " 'how',\n",
       " 'it',\n",
       " 'goes',\n",
       " 'and',\n",
       " 'final',\n",
       " 'check']"
      ]
     },
     "execution_count": 32,
     "metadata": {},
     "output_type": "execute_result"
    }
   ],
   "source": [
    "word_tokenize(data)"
   ]
  },
  {
   "cell_type": "code",
   "execution_count": 38,
   "id": "edfb0c6d",
   "metadata": {},
   "outputs": [
    {
     "data": {
      "text/plain": [
       "['Checking whether I can dio this or not.',\n",
       " \"Let's see how it goes and final check\"]"
      ]
     },
     "execution_count": 38,
     "metadata": {},
     "output_type": "execute_result"
    }
   ],
   "source": [
    "sent_tokenize(data)"
   ]
  },
  {
   "cell_type": "code",
   "execution_count": 37,
   "id": "f1616d06",
   "metadata": {},
   "outputs": [
    {
     "name": "stdout",
     "output_type": "stream",
     "text": [
      "['Checking', 'whether', 'I', 'can', 'dio', 'this', 'or', 'not', '.']\n",
      "['Let', \"'s\", 'see', 'how', 'it', 'goes', 'and', 'final', 'check']\n"
     ]
    }
   ],
   "source": [
    "for sentence in sent_tokenize(data):\n",
    "    print(word_tokenize(sentence))"
   ]
  }
 ],
 "metadata": {
  "kernelspec": {
   "display_name": "study (3.10.1)",
   "language": "python",
   "name": "python3"
  },
  "language_info": {
   "codemirror_mode": {
    "name": "ipython",
    "version": 3
   },
   "file_extension": ".py",
   "mimetype": "text/x-python",
   "name": "python",
   "nbconvert_exporter": "python",
   "pygments_lexer": "ipython3",
   "version": "3.10.1"
  }
 },
 "nbformat": 4,
 "nbformat_minor": 5
}
